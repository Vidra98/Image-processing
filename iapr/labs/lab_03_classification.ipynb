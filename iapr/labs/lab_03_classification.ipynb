{
 "cells": [
  {
   "cell_type": "markdown",
   "metadata": {
    "id": "FNeKhBo_rrr-"
   },
   "source": [
    "# [IAPR][iapr]: Lab 3 ‒  Classification\n",
    "\n",
    "\n",
    "**Group ID:** xx\n",
    "\n",
    "**Author 1 (sciper):** Nicolas Martinod (xxxxx)  \n",
    "**Author 2 (sciper):** Nicolas Feppon (249799)   \n",
    "**Author 3 (sciper):** Victor Dramé (270624)   \n",
    "\n",
    "**Release date:** 23.04.2021  \n",
    "**Due date:** 07.05.2021 \n",
    "\n",
    "\n",
    "## Important notes\n",
    "\n",
    "The lab assignments are designed to teach practical implementation of the topics presented during class well as preparation for the final project, which is a practical project which ties together the topics of the course. \n",
    "\n",
    "As such, in the lab assignments/final project, unless otherwise specified, you may, if you choose, use external functions from image processing/ML libraries like opencv and sklearn as long as there is sufficient explanation in the lab report. For example, you do not need to implement your own edge detector, etc.\n",
    "\n",
    "**! Before handling back the notebook !** rerun the notebook from scratch `Kernel` > `Restart & Run All`\n",
    "\n",
    "\n",
    "[iapr]: https://github.com/LTS5/iapr"
   ]
  },
  {
   "cell_type": "markdown",
   "metadata": {
    "id": "1f_IdNrhrrsJ"
   },
   "source": [
    "## Extract relevant data\n",
    "We first need to extract the `lab-03-data.tar.gz` archive.\n",
    "To this end, we use the [tarfile] module from the Python standard library.\n",
    "\n",
    "[tarfile]: https://docs.python.org/3.6/library/tarfile.html"
   ]
  },
  {
   "cell_type": "code",
   "execution_count": 1,
   "metadata": {
    "executionInfo": {
     "elapsed": 745,
     "status": "ok",
     "timestamp": 1619592217323,
     "user": {
      "displayName": "Victor Dramé",
      "photoUrl": "",
      "userId": "03299190217053417523"
     },
     "user_tz": -120
    },
    "id": "vgetWKNSrrsL"
   },
   "outputs": [],
   "source": [
    "import tarfile\n",
    "import os\n",
    "\n",
    "data_base_path = 'gdrive/My Drive/IAPR - TP/data/'\n",
    "data_folder = 'lab-03-data'\n",
    "# tar_path = os.path.join(data_base_path, data_folder + '.tar.gz')\n",
    "# with tarfile.open(tar_path, mode='r:gz') as tar:\n",
    "#     tar.extractall(path=data_base_path)"
   ]
  },
  {
   "cell_type": "markdown",
   "metadata": {
    "id": "KUpU5KfFrrsN"
   },
   "source": [
    "---\n",
    "## Part 1\n",
    "In this part, we will study classification based on the data available in the Matlab file `classification.mat` that you will under `lab-03-data/part1`.\n",
    "There are 3 data sets in this file, each one being a training set for a given class.\n",
    "They are contained in variables `a`, `b` and `c`.\n",
    "\n",
    "**Note**: we can load Matlab files using the [scipy.io] module.\n",
    "\n",
    "[scipy.io]: https://docs.scipy.org/doc/scipy/reference/io.html"
   ]
  },
  {
   "cell_type": "code",
   "execution_count": 2,
   "metadata": {
    "colab": {
     "base_uri": "https://localhost:8080/"
    },
    "executionInfo": {
     "elapsed": 3343,
     "status": "ok",
     "timestamp": 1619592221239,
     "user": {
      "displayName": "Victor Dramé",
      "photoUrl": "",
      "userId": "03299190217053417523"
     },
     "user_tz": -120
    },
    "id": "0zdW1SzTrrsP",
    "outputId": "256216a7-3025-4be8-e1b9-62ddfb3fd9e7"
   },
   "outputs": [
    {
     "name": "stdout",
     "output_type": "stream",
     "text": [
      "(200, 2) (200, 2) (200, 2)\n"
     ]
    }
   ],
   "source": [
    "import scipy.io\n",
    "\n",
    "data_part1_path = os.path.join('lab-03-data', 'part1', 'classification.mat')\n",
    "matfile = scipy.io.loadmat(data_part1_path)\n",
    "a = matfile['a']\n",
    "b = matfile['b']\n",
    "c = matfile['c']\n",
    "\n",
    "print(a.shape, b.shape, c.shape)"
   ]
  },
  {
   "cell_type": "code",
   "execution_count": 265,
   "metadata": {
    "colab": {
     "base_uri": "https://localhost:8080/"
    },
    "executionInfo": {
     "elapsed": 775,
     "status": "ok",
     "timestamp": 1619592274811,
     "user": {
      "displayName": "Victor Dramé",
      "photoUrl": "",
      "userId": "03299190217053417523"
     },
     "user_tz": -120
    },
    "id": "sJyIG53UOMGP",
    "outputId": "33e66a94-5778-485d-cedb-1179829e99b4"
   },
   "outputs": [
    {
     "data": {
      "text/plain": [
       "[<matplotlib.lines.Line2D at 0x7f9b1007d040>]"
      ]
     },
     "execution_count": 265,
     "metadata": {},
     "output_type": "execute_result"
    },
    {
     "data": {
      "image/png": "[encoded data removed]",
      "text/plain": [
       "<Figure size 432x288 with 1 Axes>"
      ]
     },
     "metadata": {
      "needs_background": "light"
     },
     "output_type": "display_data"
    }
   ],
   "source": [
    "from matplotlib import pyplot as plt\n",
    "import cv2\n",
    "plt.plot(a[:,0],a[:,1],'bo')\n",
    "plt.plot(b[:,0],b[:,1],'go')\n",
    "plt.plot(c[:,0],c[:,1],'ro')\n"
   ]
  },
  {
   "cell_type": "markdown",
   "metadata": {
    "id": "RpYCQrPLrrsQ"
   },
   "source": [
    "### 1.1 Bayes method (5 pts)\n",
    "Using the Bayes method, give the analytical expression of the separation curves between those three classes.\n",
    "Do reasonable hypotheses about the distributions of those classes and estimate the corresponding parameters based on the given training sets.\n",
    "Draw those curves on a plot, together with the training data.\n",
    "For simplicity reasons, round the estimated parameters to the closest integer value."
   ]
  },
  {
   "cell_type": "markdown",
   "metadata": {},
   "source": [
    " We also consider each class to have the same priors as we have 200 sample from each, thus P(Wi)=1/3 for each class."
   ]
  },
  {
   "cell_type": "code",
   "execution_count": 281,
   "metadata": {
    "id": "2LoYGIS5rrsR"
   },
   "outputs": [],
   "source": [
    "# Add your implementation and discussion\n",
    "import numpy as np\n",
    "from numpy import linalg as LA\n",
    "\n",
    "#compute the mean and covariance of a data set\n",
    "def compute_mean_cov(data):\n",
    "    return np.mean(data,0), np.cov(data.T)\n",
    "\n",
    "# Calculate the Gaussian probability distribution function for x\n",
    "def calculate_probability(x, mean, cov):\n",
    "    numerator = np.exp(-0.5*np.dot((x-mean).T,LA.inv(cov)),(x-mean))\n",
    "    return (1 / (2 * np.pi * LA.det(cov))) * numerator\n",
    "\n",
    "#compute the discriminant function\n",
    "def compute_g(x_data_range,y_data_range,mean,cov):\n",
    "    \"\"\"\n",
    "    x_data_range: range of the data set on x\n",
    "    y_data_range: range of the data set on y\n",
    "    \"\"\"\n",
    "    g=np.zeros((np.size(x_data_range),np.size(y_data_range)))\n",
    "    #compute the discriminant function for each point in range\n",
    "    for x_idx,x in enumerate(x_data_range):\n",
    "        for y_idx,y in enumerate(y_data_range):\n",
    "            pt=np.array([y,x])\n",
    "            g[x_idx,y_idx]=1/2*(-pt.T@LA.inv(cov)@pt+pt.T@LA.inv(cov)@mean -mean.T@LA.inv(cov)@mean\\\n",
    "                                +mean.T@LA.inv(cov)@pt) -np.log(2*np.pi*LA.det(cov))\n",
    "    return g\n",
    "\n",
    "#compute class edge and return it as a set of point\n",
    "def class_edge_finder(g_1,g_2):\n",
    "    #set value lower than the threshold value to 0 and higher value to max\n",
    "    edge_threshold=0\n",
    "    ret, thresh = cv2.threshold(g_1-g_2, edge_threshold, 255, 0)\n",
    "    #plt.plot(thresh)\n",
    "    edges = cv2.Canny(np.uint8(thresh),1,1,)\n",
    "    class_edge=np.argwhere(edges>0)\n",
    "    #set in the right range\n",
    "    class_edge[:,0]= class_edge[:,0]-6\n",
    "    class_edge[:,1]= class_edge[:,1]-15\n",
    "\n",
    "    return class_edge\n",
    "\n",
    "#return the probability to be in the 3 classes.\n",
    "def get_class_prob(x,a,b,c):\n",
    "    mean_a,cov_a=compute_mean_cov(a)\n",
    "    mean_b,cov_b=compute_mean_cov(b)\n",
    "    mean_c,cov_c=compute_mean_cov(c)\n",
    "    #compute each probability\n",
    "    p_a=calculate_probability(x,mean_a,cov_a)\n",
    "    p_b=calculate_probability(x,mean_b,cov_b)\n",
    "    p_c=calculate_probability(x,mean_c,cov_c)\n",
    "    \n",
    "    return p_a,p_b,p_c\n"
   ]
  },
  {
   "cell_type": "code",
   "execution_count": 267,
   "metadata": {},
   "outputs": [
    {
     "name": "stdout",
     "output_type": "stream",
     "text": [
      "cov a:\n",
      " [[10.02769733  0.13162336]\n",
      " [ 0.13162336  0.83932673]]\n",
      "cov b:\n",
      " [[10.17034812  0.18023771]\n",
      " [ 0.18023771  1.0840038 ]]\n",
      "cov c:\n",
      " [[0.97013029 0.23458112]\n",
      " [0.23458112 4.69756273]]\n"
     ]
    }
   ],
   "source": [
    "mean_a,cov_a=compute_mean_cov(a)\n",
    "mean_b,cov_b=compute_mean_cov(b)\n",
    "mean_c,cov_c=compute_mean_cov(c)\n",
    "\n",
    "print('cov a:\\n',cov_a)\n",
    "print('cov b:\\n',cov_b)\n",
    "print('cov c:\\n',cov_c)"
   ]
  },
  {
   "cell_type": "code",
   "execution_count": 269,
   "metadata": {},
   "outputs": [],
   "source": [
    "#data range\n",
    "x_range=range(-6,6)\n",
    "y_range=range(-15,15)\n",
    "#compute discriminant function\n",
    "g_a=compute_g(x_range,y_range,mean_a,cov_a)\n",
    "g_b=compute_g(x_range,y_range,mean_b,cov_b)\n",
    "g_c=compute_g(x_range,y_range,mean_c,cov_c)"
   ]
  },
  {
   "cell_type": "code",
   "execution_count": 278,
   "metadata": {},
   "outputs": [
    {
     "data": {
      "text/plain": [
       "[<matplotlib.lines.Line2D at 0x7f9b0c59f2e0>]"
      ]
     },
     "execution_count": 278,
     "metadata": {},
     "output_type": "execute_result"
    },
    {
     "data": {
      "image/png": "[encoded data removed]",
      "text/plain": [
       "<Figure size 432x288 with 3 Axes>"
      ]
     },
     "metadata": {
      "needs_background": "light"
     },
     "output_type": "display_data"
    }
   ],
   "source": [
    "\n",
    "#classifier AB\n",
    "plt.subplot(311)\n",
    "edge_ab=class_edge_finder(g_a,g_b)\n",
    "plt.plot(a[:,0],a[:,1],'bo')\n",
    "plt.plot(b[:,0],b[:,1],'go')\n",
    "#in this order since argwhere return\n",
    "plt.plot(edge_ab[:,1],edge_ab[:,0],'r+')\n",
    "\n",
    "#Classifier BC\n",
    "plt.subplot(312)\n",
    "edge_bc=class_edge_finder(g_b,g_c)\n",
    "plt.plot(b[:,0],b[:,1],'go')\n",
    "plt.plot(c[:,0],c[:,1],'yo')\n",
    "#in this order since argwhere return\n",
    "plt.plot(edge_bc[:,1],edge_bc[:,0],'r+')\n",
    "\n",
    "#Classifier AC\n",
    "plt.subplot(313)\n",
    "edge_ac=class_edge_finder(g_b,g_c)\n",
    "plt.plot(a[:,0],a[:,1],'bo')\n",
    "plt.plot(c[:,0],c[:,1],'yo')\n",
    "#in this order since argwhere return\n",
    "plt.plot(edge_ac[:,1],edge_ac[:,0],'r+')"
   ]
  },
  {
   "cell_type": "markdown",
   "metadata": {
    "id": "Ibd9hsnbrrsS"
   },
   "source": [
    "### 1.2 Mahalanobis distance (5 pts)\n",
    "For classes `a` and `b`, give the expression of the Mahalanobis distance used to classify a point in class `a` or `b`, and verify the obtained classification, in comparison with the \"complete\" Bayes classification, for a few points of the plane."
   ]
  },
  {
   "cell_type": "code",
   "execution_count": null,
   "metadata": {
    "id": "8IS3UojgrrsS"
   },
   "outputs": [],
   "source": [
    "# Add your implementation and discussion"
   ]
  },
  {
   "cell_type": "markdown",
   "metadata": {
    "id": "4u8QEA8arrsT"
   },
   "source": [
    "---\n",
    "\n",
    "## Part 2\n",
    "In this part, we aim to classify digits using the complete version of MNIST digits dataset.\n",
    "The dataset consists of 60'000 training images and 10'000 test images of handwritten digits.\n",
    "Each image has size 28x28, and has assigned a label from zero to nine, denoting the digits value.\n",
    "Given this data, your task is to construct a Multilayer Perceptron (MLP) for supervised training and classification and evaluate it on the test images.\n",
    "\n",
    "Download the MNIST dataset (all 4 files) from http://yann.lecun.com/exdb/mnist/ under `lab-03-data/part2`.\n",
    "You can then use the script provided below to extract and load training and testing images in Python. \n",
    "\n",
    "**! Warning**: When the lab was created the official MNIST repo was down, if it is still the case please use https://github.com/mkolod/MNIST."
   ]
  },
  {
   "cell_type": "markdown",
   "metadata": {
    "id": "X30YeAqUrrsU"
   },
   "source": [
    "### 2.1 Dataset loading\n",
    "Here we first declare the methods `extract_data` and `extract_labels` so that we can reuse them later in the code.\n",
    "Then we extract both the data and corresponding labels, and plot randomly some images and corresponding labels of the training set."
   ]
  },
  {
   "cell_type": "code",
   "execution_count": null,
   "metadata": {
    "id": "bq6UYIXOrrsV"
   },
   "outputs": [],
   "source": [
    "import gzip\n",
    "import numpy as np\n",
    "import matplotlib.pyplot as plt\n",
    "\n",
    "def extract_data(filename, image_shape, image_number):\n",
    "    with gzip.open(filename) as bytestream:\n",
    "        bytestream.read(16)\n",
    "        buf = bytestream.read(np.prod(image_shape) * image_number)\n",
    "        data = np.frombuffer(buf, dtype=np.uint8).astype(np.float32)\n",
    "        data = data.reshape(image_number, image_shape[0], image_shape[1])\n",
    "    return data\n",
    "\n",
    "\n",
    "def extract_labels(filename, image_number):\n",
    "    with gzip.open(filename) as bytestream:\n",
    "        bytestream.read(8)\n",
    "        buf = bytestream.read(1 * image_number)\n",
    "        labels = np.frombuffer(buf, dtype=np.uint8).astype(np.int64)\n",
    "    return labels"
   ]
  },
  {
   "cell_type": "code",
   "execution_count": null,
   "metadata": {
    "id": "arb_M01CrrsW"
   },
   "outputs": [],
   "source": [
    "image_shape = (28, 28)\n",
    "train_set_size = 60000\n",
    "test_set_size = 10000\n",
    "\n",
    "data_part2_folder = os.path.join(data_base_path, data_folder, 'part2')\n",
    "\n",
    "train_images_path = os.path.join(data_part2_folder, 'train-images-idx3-ubyte.gz')\n",
    "train_labels_path = os.path.join(data_part2_folder, 'train-labels-idx1-ubyte.gz')\n",
    "test_images_path = os.path.join(data_part2_folder, 't10k-images-idx3-ubyte.gz')\n",
    "test_labels_path = os.path.join(data_part2_folder, 't10k-labels-idx1-ubyte.gz')\n",
    "\n",
    "train_images = extract_data(train_images_path, image_shape, train_set_size)\n",
    "test_images = extract_data(test_images_path, image_shape, test_set_size)\n",
    "train_labels = extract_labels(train_labels_path, train_set_size)\n",
    "test_labels = extract_labels(test_labels_path, test_set_size)"
   ]
  },
  {
   "cell_type": "code",
   "execution_count": null,
   "metadata": {
    "id": "wM09iQAJrrsX"
   },
   "outputs": [],
   "source": [
    "prng = np.random.RandomState(seed=123456789)  # seed to always re-draw the same distribution\n",
    "plt_ind = prng.randint(low=0, high=train_set_size, size=10)\n",
    "\n",
    "fig, axes = plt.subplots(1, 10, figsize=(12, 3))\n",
    "for ax, im, lb in zip(axes, train_images[plt_ind], train_labels[plt_ind]):\n",
    "    ax.imshow(im, cmap='gray')\n",
    "    ax.axis('off')\n",
    "    ax.set_title(lb)"
   ]
  },
  {
   "cell_type": "markdown",
   "metadata": {
    "id": "8gGcsDjYrrsY"
   },
   "source": [
    "### 2.2 MLP (10 pts)\n",
    "\n",
    "To create an MLP you are free to choose any library.\n",
    "In case you don't have any preferences, we encourage you to use the [scikit-learn] package; it is a simple, efficient and free tool for data analysis and machine learning.\n",
    "In this [link][sklearn-example], you can find a basic example to see how to create and train an MLP using [scikit-learn].\n",
    "Your network should have the following properties:\n",
    "* Input `x`: 784-dimensional (i.e. 784 visible units representing the flattened 28x28 pixel images).\n",
    "* 100 hidden units `h`.\n",
    "* 10 output units `y`, i.e. the labels, with a value close to one in the i-th class representing a high probability of the input representing the digit `i`.\n",
    "\n",
    "If you need additional examples you can borrow some code from image classification tutorials.\n",
    "However, we recommend that you construct a minimal version of the network on your own to gain better insights.\n",
    "\n",
    "[scikit-learn]: http://scikit-learn.org/stable/index.html\n",
    "[sklearn-example]: http://scikit-learn.org/stable/modules/neural_networks_supervised.html"
   ]
  },
  {
   "cell_type": "code",
   "execution_count": null,
   "metadata": {
    "id": "cf4dZ6E6rrsa"
   },
   "outputs": [],
   "source": [
    "# Add your implementation and discussion"
   ]
  }
 ],
 "metadata": {
  "colab": {
   "collapsed_sections": [],
   "name": "lab_03_classification.ipynb",
   "provenance": []
  },
  "kernelspec": {
   "display_name": "Python 3",
   "language": "python",
   "name": "python3"
  },
  "language_info": {
   "codemirror_mode": {
    "name": "ipython",
    "version": 3
   },
   "file_extension": ".py",
   "mimetype": "text/x-python",
   "name": "python",
   "nbconvert_exporter": "python",
   "pygments_lexer": "ipython3",
   "version": "3.8.5"
  }
 },
 "nbformat": 4,
 "nbformat_minor": 1
}
